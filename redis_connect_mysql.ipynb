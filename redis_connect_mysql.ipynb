{
 "cells": [
  {
   "cell_type": "code",
   "execution_count": 37,
   "metadata": {},
   "outputs": [],
   "source": [
    "import redis\n",
    "import pymysql\n",
    "import sys"
   ]
  },
  {
   "cell_type": "code",
   "execution_count": 43,
   "metadata": {},
   "outputs": [],
   "source": [
    "'''\n",
    "1. 先到redis中查询\n",
    "2. redis中没有，到Mysql中查询，并将数据缓存到redis(设置过期时间)\n",
    "3. 再查询一次，此时就从redis中直接拿\n",
    "4. 过期时间到，redis中缓存的数据没了，重复第二步\n",
    "'''\n",
    "#连接redis\n",
    "r = redis.Redis(host='192.168.1.175',port=6379,db='0',encoding='utf8', decode_responses=True)"
   ]
  },
  {
   "cell_type": "code",
   "execution_count": 39,
   "metadata": {},
   "outputs": [],
   "source": [
    "#连接mysql\n",
    "def connect_to_mysql():\n",
    "    # 設定資料庫連線資訊\n",
    "    db_setting = {\n",
    "        \"host\" : 'localhost',\n",
    "        \"port\" : 3306,\n",
    "        \"user\" : 'root',\n",
    "        \"passwd\" : 'frank0813',\n",
    "        \"db\" : \"topic_104\",\n",
    "        \"charset\" : 'utf8mb4'\n",
    "        }\n",
    "# 建立連線\n",
    "    conn = pymysql.connect(**db_setting)\n",
    "    print('Successfully connected to DB : {} !'.format(db_setting[\"db\"]))\n",
    "    return conn"
   ]
  },
  {
   "cell_type": "code",
   "execution_count": 5,
   "metadata": {},
   "outputs": [
    {
     "name": "stdout",
     "output_type": "stream",
     "text": [
      "Successfully connected to DB : topic_104 !\n"
     ]
    }
   ],
   "source": [
    "conn = connect_to_mysql()"
   ]
  },
  {
   "cell_type": "code",
   "execution_count": 6,
   "metadata": {},
   "outputs": [],
   "source": [
    "#创建pymysql游标对象\n",
    "cursor = conn.cursor()"
   ]
  },
  {
   "cell_type": "code",
   "execution_count": 7,
   "metadata": {},
   "outputs": [],
   "source": [
    "sql = '''SELECT a.Job_ID, a.Job_Name, a.Company, a. salary_clean, a. Job_Description, a.Other, b.concate_jieba    \n",
    "        FROM job_104 as a\n",
    "        join jobconcate_jieba as b\n",
    "        on a.Job_ID = b.Job_ID '''"
   ]
  },
  {
   "cell_type": "code",
   "execution_count": 8,
   "metadata": {},
   "outputs": [
    {
     "data": {
      "text/plain": [
       "132555"
      ]
     },
     "execution_count": 8,
     "metadata": {},
     "output_type": "execute_result"
    }
   ],
   "source": [
    "cursor.execute(sql)"
   ]
  },
  {
   "cell_type": "code",
   "execution_count": 9,
   "metadata": {},
   "outputs": [],
   "source": [
    "data = cursor.fetchall()"
   ]
  },
  {
   "cell_type": "code",
   "execution_count": 102,
   "metadata": {},
   "outputs": [
    {
     "data": {
      "text/plain": [
       "str"
      ]
     },
     "execution_count": 102,
     "metadata": {},
     "output_type": "execute_result"
    }
   ],
   "source": [
    "type(list(data[0])[0])"
   ]
  },
  {
   "cell_type": "code",
   "execution_count": 59,
   "metadata": {},
   "outputs": [],
   "source": [
    "for i in data:\n",
    "    r.sadd('Job',str(i))"
   ]
  },
  {
   "cell_type": "code",
   "execution_count": 97,
   "metadata": {},
   "outputs": [
    {
     "ename": "SyntaxError",
     "evalue": "invalid syntax (<ipython-input-97-93ef63c17241>, line 2)",
     "output_type": "error",
     "traceback": [
      "\u001b[1;36m  File \u001b[1;32m\"<ipython-input-97-93ef63c17241>\"\u001b[1;36m, line \u001b[1;32m2\u001b[0m\n\u001b[1;33m    r.hmset('Job',['Job_ID':i[0],'Job_Name':i[1],'Company':i[2],'salary_clean':i[3],'Job_Description':i[4],'Other':i[5],'concate_jieba':i[6]])\u001b[0m\n\u001b[1;37m                           ^\u001b[0m\n\u001b[1;31mSyntaxError\u001b[0m\u001b[1;31m:\u001b[0m invalid syntax\n"
     ]
    }
   ],
   "source": [
    "for i in data:\n",
    "    r.hmset('Job',['Job_ID':i[0],'Job_Name':i[1],'Company':i[2],'salary_clean':i[3],'Job_Description':i[4],'Other':i[5],'concate_jieba':i[6]])"
   ]
  },
  {
   "cell_type": "code",
   "execution_count": 44,
   "metadata": {},
   "outputs": [],
   "source": [
    "result = r.hgetall('100*')"
   ]
  },
  {
   "cell_type": "code",
   "execution_count": 45,
   "metadata": {},
   "outputs": [
    {
     "data": {
      "text/plain": [
       "{'Job_Name': '作業員(供膳)',\n",
       " 'Job_Description': '旺季需配合加班',\n",
       " 'salary_clean': '月薪,28000,30000',\n",
       " 'Company': '總信食品有限公司',\n",
       " 'concate_jieba': '健團保,食品,餐飲,作業員,包裝',\n",
       " 'Other': '需能配合加班，享勞健團保食品餐飲相關科系為佳',\n",
       " 'Job_ID': '10062'}"
      ]
     },
     "execution_count": 45,
     "metadata": {},
     "output_type": "execute_result"
    }
   ],
   "source": [
    "result"
   ]
  },
  {
   "cell_type": "code",
   "execution_count": 65,
   "metadata": {},
   "outputs": [],
   "source": [
    "a = r.sscan('Job',0,'*友信*',140000)"
   ]
  },
  {
   "cell_type": "code",
   "execution_count": 81,
   "metadata": {},
   "outputs": [],
   "source": [
    "b = list(a[1])"
   ]
  },
  {
   "cell_type": "code",
   "execution_count": 82,
   "metadata": {},
   "outputs": [
    {
     "data": {
      "text/plain": [
       "\"('6x13h', 'IoT物聯網安全銷售高級業務專員', '友信行股份有限公司', '月薪,35000,40000', '1.資安服務銷售，如：滲透測試、弱點掃描與社交工程演練2.資安產品銷售，如：物聯網設備、主機與端點防護系統3.電腦整合方案銷售4.專案客戶開發及維繫管理5.負責專案內、外部相關工作之溝通協調6.業績目標達成7.應收帳款催收', '-須具業務銷售三年以上經驗-資安專案業務經驗優先-具政府、金融或醫療電腦設備採購或資安設備採購標案經驗尤佳', '資安,服務,銷售,測試,掃描,社交,工程,演練,資安,產品,銷售,物聯網,設備,主機,端點,防護,系統,電腦,整合,方案,銷售,專案,客戶,開發,維繫,管理,專案,溝通,協調,業績,帳款,催收,業務,銷售,資安,專案,業務,政府,金融,醫療,電腦,設備,採購,資安,設備,採購,標案,業務,Excel,Outlook,PowerPoint,Word')\""
      ]
     },
     "execution_count": 82,
     "metadata": {},
     "output_type": "execute_result"
    }
   ],
   "source": [
    "b[0]"
   ]
  },
  {
   "cell_type": "code",
   "execution_count": 96,
   "metadata": {},
   "outputs": [
    {
     "ename": "SyntaxError",
     "evalue": "EOL while scanning string literal (<ipython-input-96-b2216ab20fd1>, line 1)",
     "output_type": "error",
     "traceback": [
      "\u001b[1;36m  File \u001b[1;32m\"<ipython-input-96-b2216ab20fd1>\"\u001b[1;36m, line \u001b[1;32m1\u001b[0m\n\u001b[1;33m    b[0].split(',')[0].split(''/')\u001b[0m\n\u001b[1;37m                                  ^\u001b[0m\n\u001b[1;31mSyntaxError\u001b[0m\u001b[1;31m:\u001b[0m EOL while scanning string literal\n"
     ]
    }
   ],
   "source": [
    "b[0].split(',')[0].split(''/')"
   ]
  },
  {
   "cell_type": "code",
   "execution_count": null,
   "metadata": {},
   "outputs": [],
   "source": []
  }
 ],
 "metadata": {
  "kernelspec": {
   "display_name": "Python 3",
   "language": "python",
   "name": "python3"
  },
  "language_info": {
   "codemirror_mode": {
    "name": "ipython",
    "version": 3
   },
   "file_extension": ".py",
   "mimetype": "text/x-python",
   "name": "python",
   "nbconvert_exporter": "python",
   "pygments_lexer": "ipython3",
   "version": "3.7.4"
  }
 },
 "nbformat": 4,
 "nbformat_minor": 4
}
