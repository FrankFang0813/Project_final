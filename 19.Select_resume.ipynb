{
 "cells": [
  {
   "cell_type": "code",
   "execution_count": 12,
   "metadata": {},
   "outputs": [],
   "source": [
    "from gensim.models import Word2Vec\n",
    "import gensim\n",
    "import jieba\n",
    "import pymongo"
   ]
  },
  {
   "cell_type": "code",
   "execution_count": 10,
   "metadata": {},
   "outputs": [],
   "source": [
    "model = gensim.models.Word2Vec.load('resume_model.model')"
   ]
  },
  {
   "cell_type": "code",
   "execution_count": 13,
   "metadata": {},
   "outputs": [],
   "source": [
    "def jieba_cut(data, stop_words): # 定義使用結巴程式\n",
    "    '''\n",
    "    input:\n",
    "        data : string\n",
    "        stop_words: list of stopwords\n",
    "    output:\n",
    "        lst_seg : list of words after jieba\n",
    "    '''\n",
    "\n",
    "    # 使用結巴斷詞，產生 list of words\n",
    "    seg_result = jieba.cut(data, cut_all=False)\n",
    "\n",
    "    # 篩選斷詞，去掉單一中文字\n",
    "    lst_seg = []\n",
    "\n",
    "    for i in list(seg_result):\n",
    "        i = i.strip()\n",
    "        if len(i) < 1:  # 排除空值\n",
    "            continue\n",
    "        elif isEnglish(i) == False and len(i) == 1:  # 排除單一中文字\n",
    "            continue\n",
    "        elif i.isdigit() == True:  # 排除數字\n",
    "            continue\n",
    "        elif i in stop_words:  # 排除stopwords\n",
    "            continue\n",
    "\n",
    "        else:\n",
    "            lst_seg.append(i)\n",
    "\n",
    "    return lst_seg"
   ]
  },
  {
   "cell_type": "code",
   "execution_count": 14,
   "metadata": {},
   "outputs": [],
   "source": [
    "def create_joblist_for_similar(job_list,model):\n",
    "    user_list = []\n",
    "    for word in job_list:\n",
    "        if word in model.wv.vocab.keys():\n",
    "            user_list.append(word)\n",
    "        else:\n",
    "            pass\n",
    "    return user_list"
   ]
  },
  {
   "cell_type": "code",
   "execution_count": 15,
   "metadata": {},
   "outputs": [],
   "source": [
    "def mongo_connect_build(db_name, col_name):\n",
    "    \n",
    "    global mycol\n",
    "    client = pymongo.MongoClient(\"mongodb://192.168.1.25:27017/\") \n",
    "\n",
    "    db = client[db_name] # 選擇使用的db,不存在則會在資料輸入時自動建立\n",
    "    mycol = db[col_name] # 選擇collection,不存在則會在資料輸入時自動建立\n",
    "\n",
    "def data_find():\n",
    "    # 尋找多筆資料\n",
    "    return mycol.find({},{'_id':0})"
   ]
  },
  {
   "cell_type": "code",
   "execution_count": 16,
   "metadata": {},
   "outputs": [],
   "source": [
    "def open_json_file(CACHE_FNAME):\n",
    "    try:\n",
    "        cache_file = open(CACHE_FNAME, 'r', encoding='utf-8-sig')\n",
    "        cache_contents = cache_file.read()\n",
    "        CACHE_DICTION = json.loads(cache_contents, encoding='utf-8-sig')\n",
    "        cache_file.close()\n",
    "        return CACHE_DICTION\n",
    "\n",
    "    except:\n",
    "        CACHE_DICTION = {}\n",
    "        return CACHE_DICTION"
   ]
  },
  {
   "cell_type": "code",
   "execution_count": 19,
   "metadata": {},
   "outputs": [],
   "source": [
    "'''\n",
    "丟入要匹配的user_list,\n",
    "用model.n_similarity相似度匹配,\n",
    "用user_list配對每一筆cv_list,求出相似度建立字典\n",
    "'''\n",
    "def job_map_cv(cv_dict,model,user_list):\n",
    "    rate_dict = {}\n",
    "    for k,v in zip(cv_dict.keys(),cv_prob.values()):    \n",
    "        rate = model.n_similarity(v,user_list)\n",
    "        rate_dict[k] = rate\n",
    "        rate_sort = sorted(rate_dict.items(), key=lambda x:x[1],reverse=True)\n",
    "        rate_list = list(rate_sort)\n",
    "    return rate_list"
   ]
  },
  {
   "cell_type": "code",
   "execution_count": 20,
   "metadata": {},
   "outputs": [],
   "source": [
    "def resume_select_url(rate_list):\n",
    "    for i in range(0,10):\n",
    "        print('https://www.cakeresume.com/' + str(rate_list[i][0]))\n",
    "        print('============================================================')"
   ]
  },
  {
   "cell_type": "code",
   "execution_count": null,
   "metadata": {},
   "outputs": [],
   "source": []
  }
 ],
 "metadata": {
  "kernelspec": {
   "display_name": "Python 3",
   "language": "python",
   "name": "python3"
  },
  "language_info": {
   "codemirror_mode": {
    "name": "ipython",
    "version": 3
   },
   "file_extension": ".py",
   "mimetype": "text/x-python",
   "name": "python",
   "nbconvert_exporter": "python",
   "pygments_lexer": "ipython3",
   "version": "3.7.4"
  }
 },
 "nbformat": 4,
 "nbformat_minor": 4
}
