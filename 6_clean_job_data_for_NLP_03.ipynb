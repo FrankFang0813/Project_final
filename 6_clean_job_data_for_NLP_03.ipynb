{
 "cells": [
  {
   "cell_type": "markdown",
   "metadata": {},
   "source": [
    "## 1. read data from MongoDB, store it into JSON data"
   ]
  },
  {
   "cell_type": "code",
   "execution_count": 82,
   "metadata": {},
   "outputs": [],
   "source": [
    "import pymongo\n",
    "import json"
   ]
  },
  {
   "cell_type": "code",
   "execution_count": 83,
   "metadata": {},
   "outputs": [],
   "source": [
    "def mongo_connect_build(db_name, col_name):\n",
    "    \n",
    "    global mycol\n",
    "    client = pymongo.MongoClient(\"mongodb://192.168.1.25:27017/\") # 跟mongodb建立連\n",
    "\n",
    "    db = client[db_name] # 選擇使用的db,不存在則會在資料輸入時自動建立\n",
    "    mycol = db[col_name] # 選擇collection,不存在則會在資料輸入時自動建立\n",
    "    \n",
    "def data_find():\n",
    "    # 尋找多筆資料\n",
    "    return mycol.find({}, {\"_id\":0})"
   ]
  },
  {
   "cell_type": "code",
   "execution_count": 84,
   "metadata": {},
   "outputs": [],
   "source": [
    "# # connect to mongoDB to get data\n",
    "# mongo_connect_build('Topic_104', 'job_clean_test') \n",
    "# lst_jobdata = [i for i in data_find()] # store the data"
   ]
  },
  {
   "cell_type": "code",
   "execution_count": 85,
   "metadata": {},
   "outputs": [],
   "source": [
    "def open_json_file(CACHE_FNAME):\n",
    "    try:\n",
    "        cache_file = open(CACHE_FNAME, 'r', encoding='utf-8-sig')\n",
    "        cache_contents = cache_file.read()\n",
    "        CACHE_DICTION = json.loads(cache_contents, encoding='utf-8-sig')\n",
    "        cache_file.close()\n",
    "        return CACHE_DICTION\n",
    "\n",
    "    except:\n",
    "        CACHE_DICTION = {}\n",
    "        return CACHE_DICTION\n",
    "    \n",
    "def dump_json_file(query_dict, file_name):\n",
    "    dumped_json_cache = json.dumps(query_dict)\n",
    "    fw = open(file_name,\"w\")\n",
    "    fw.write(dumped_json_cache)\n",
    "    fw.close()\n",
    "    print('successfully write down the file: ', file_name)"
   ]
  },
  {
   "cell_type": "code",
   "execution_count": 86,
   "metadata": {
    "scrolled": true
   },
   "outputs": [],
   "source": [
    "# dump_json_file(lst_jobdata, 'json_data/test_NLP_01.json')"
   ]
  },
  {
   "cell_type": "code",
   "execution_count": 87,
   "metadata": {},
   "outputs": [],
   "source": [
    "# open the data that alreday store in local json file\n",
    "\n",
    "job_data = open_json_file('json_data/test_NLP_01.json')"
   ]
  },
  {
   "cell_type": "code",
   "execution_count": 88,
   "metadata": {},
   "outputs": [
    {
     "name": "stdout",
     "output_type": "stream",
     "text": [
      "所有資料數量:  135384\n"
     ]
    }
   ],
   "source": [
    "print('所有資料數量: ', len(job_data))"
   ]
  },
  {
   "cell_type": "markdown",
   "metadata": {},
   "source": [
    "## 2. Clean job Description data"
   ]
  },
  {
   "cell_type": "code",
   "execution_count": 89,
   "metadata": {},
   "outputs": [],
   "source": [
    "import re"
   ]
  },
  {
   "cell_type": "markdown",
   "metadata": {},
   "source": [
    "### a. 定義資料清洗function"
   ]
  },
  {
   "cell_type": "code",
   "execution_count": 90,
   "metadata": {},
   "outputs": [],
   "source": [
    "def isEnglish(s): # 檢查字元是否為英文\n",
    "    try:\n",
    "        s.encode(encoding='utf-8').decode('ascii')\n",
    "    except UnicodeDecodeError:\n",
    "        return False\n",
    "    else:\n",
    "        return True\n",
    "    \n",
    "def isNumber(s): # 檢查字元是否為數字\n",
    "    return s.isdigit()\n",
    "\n"
   ]
  },
  {
   "cell_type": "code",
   "execution_count": null,
   "metadata": {},
   "outputs": [],
   "source": [
    "#將只有中文名,其他全英文字的履歷刪除\n",
    "myquery = {\"value\": {\"$not\":{\"$regex\":\"[\\u4e00-\\u9fa5]{4}[.]*[\\u4e00-\\u9fa5]+\"}}}\n",
    "myquery = {\"value\": {\"$not\":{\"$regex\":\"[\\u4e00-\\u9fa5]{3}[.]*[\\u4e00-\\u9fa5]+\"}}}\n",
    "myquery = {\"value\": {\"$not\":{\"$regex\":\"[\\u4e00-\\u9fa5]{2}[.]*[\\u4e00-\\u9fa5]+\"}}}\n",
    "myquery = {\"value\": {\"$not\":{\"$regex\":\"[\\u4e00-\\u9fa5]{1}[.]*[\\u4e00-\\u9fa5]+\"}}}"
   ]
  },
  {
   "cell_type": "code",
   "execution_count": 91,
   "metadata": {},
   "outputs": [
    {
     "name": "stdout",
     "output_type": "stream",
     "text": [
      "1.負責介紹及銷售商品。\r\n",
      "2.提供顧客之接待與需求服務（如：電話諮詢、調貨、修改、包裝及退換貨處理）。\r\n",
      "3.負責商品進貨入庫、銷售管理及庫存管理。\r\n",
      "4.負責商品包裝、陳列及促銷品換檔工作。\r\n",
      "5.維持店櫃週遭整潔。\r\n",
      "6.提升業績。\n",
      "需符合以下條件，無經驗勿投履歷~\r\n",
      "1.具備少淑女服飾一年以上銷售經驗\r\n",
      "2.充滿活力並有服務熱忱\n",
      "--------------------\n",
      "歐德傢俱連鎖事業鼓勵對系統傢俱設計有濃厚的有志之士加入，透過完整的晉升制度及各項多元職系發展，讓同仁在歐德集團開創自己的事業。\r\n",
      "本職務有業務經驗尤佳，以設計、銷售系統傢俱為主，依業主需求從系統介紹、工地丈量、繪圖、監工等..為業主服務，讓您走向專業發展的設計領域，歡迎您加入歐德集團。\n",
      "自備交通工具\n",
      "--------------------\n"
     ]
    }
   ],
   "source": [
    "# show original data\n",
    "for i in job_data[0:2]:\n",
    "    print(i['jobDescription'])\n",
    "    print(i['other'])\n",
    "    print(\"-\"*20)"
   ]
  },
  {
   "cell_type": "code",
   "execution_count": 92,
   "metadata": {},
   "outputs": [],
   "source": [
    "def string_clean(jobDescription): \n",
    "    '''\n",
    "    input: string (original job description)\n",
    "    output: string (clean job description)\n",
    "    '''\n",
    "    job_desc = jobDescription.split('\\r\\n') # 根據換行符號轉乘 List格式\n",
    "    job_words = ''\n",
    "    \n",
    "    for words in job_desc:\n",
    "        words = re.sub(r'[^\\w\\s]',' ', words)  # remove all punctuations\n",
    "        words = re.sub(r'\\d+', '', words)  # remove all numbers\n",
    "        words = words.strip() # remove white space\n",
    "        job_words += words\n",
    "    \n",
    "    return (job_words)"
   ]
  },
  {
   "cell_type": "code",
   "execution_count": 93,
   "metadata": {},
   "outputs": [
    {
     "name": "stdout",
     "output_type": "stream",
     "text": [
      "負責介紹及銷售商品提供顧客之接待與需求服務 如 電話諮詢 調貨 修改 包裝及退換貨處理負責商品進貨入庫 銷售管理及庫存管理負責商品包裝 陳列及促銷品換檔工作維持店櫃週遭整潔提升業績需符合以下條件 無經驗勿投履歷具備少淑女服飾一年以上銷售經驗充滿活力並有服務熱忱\n",
      "--------------------\n",
      "歐德傢俱連鎖事業鼓勵對系統傢俱設計有濃厚的有志之士加入 透過完整的晉升制度及各項多元職系發展 讓同仁在歐德集團開創自己的事業本職務有業務經驗尤佳 以設計 銷售系統傢俱為主 依業主需求從系統介紹 工地丈量 繪圖 監工等  為業主服務 讓您走向專業發展的設計領域 歡迎您加入歐德集團自備交通工具\n",
      "--------------------\n"
     ]
    }
   ],
   "source": [
    "# show data after cleaning\n",
    "for i in job_data[0:2]:\n",
    "    jobDescription = i['jobDescription']\n",
    "    jobOther = i['other']\n",
    "    \n",
    "    job_words = string_clean(jobDescription) # clean string\n",
    "    job_words_other = string_clean(jobOther) # clean string\n",
    "\n",
    "    jobDescription_clean = job_words + job_words_other # add two string\n",
    "    \n",
    "#     if isEnglish(jobDescription_clean) == True:\n",
    "#         print(jobDescription_clean)\n",
    " \n",
    "    print(jobDescription_clean)\n",
    "    print(\"-\"*20)"
   ]
  },
  {
   "cell_type": "markdown",
   "metadata": {},
   "source": [
    "#### 資料清洗整合"
   ]
  },
  {
   "cell_type": "code",
   "execution_count": 94,
   "metadata": {},
   "outputs": [],
   "source": [
    "# 將不同欄位的資料清洗並整合，並排除英文職缺\n",
    "\n",
    "def concate_clean_data(data):\n",
    "    jobDescription = data['jobDescription']\n",
    "    jobOther = data['other']\n",
    "    \n",
    "    job_words = string_clean(jobDescription) # clean string\n",
    "    job_words_other = string_clean(jobOther) # clean string\n",
    "\n",
    "    jobDescription_clean = job_words + job_words_other # add two string\n",
    "    \n",
    "    # 如果是英文職缺，回傳 None\n",
    "    if isEnglish(jobDescription_clean) == True:\n",
    "        return None\n",
    "    \n",
    "    # add jobCategory\n",
    "    jobDescription_clean = jobDescription_clean + \" \" + data['jobCategory'].replace('／', ' ')\n",
    "    \n",
    "    # add major_clean\n",
    "    if len(data['major_clean']) > 0:\n",
    "        for j in data['major_clean']:\n",
    "            jobDescription_clean = jobDescription_clean + \" \" + j\n",
    "    \n",
    "    # add language_clean\n",
    "    if len(data['language_clean']) > 0:\n",
    "        for j in data['language_clean']:\n",
    "            jobDescription_clean = jobDescription_clean + \" \" + j\n",
    "    \n",
    "    # add skill_clean\n",
    "    if len(data['skill_clean']) > 0:\n",
    "        for j in data['skill_clean']:\n",
    "            jobDescription_clean = jobDescription_clean + \" \" + j\n",
    "            \n",
    "    # add certificate_clean\n",
    "    if len(data['certificate_clean']) > 0:\n",
    "        for j in data['certificate_clean']:\n",
    "            jobDescription_clean = jobDescription_clean + \" \" + j\n",
    "\n",
    "    # add specialty\n",
    "    if len(data['specialty']) > 0:\n",
    "        for j in data['specialty']:\n",
    "            jobDescription_clean = jobDescription_clean + \" \" + j\n",
    "            \n",
    "    return jobDescription_clean\n",
    "    "
   ]
  },
  {
   "cell_type": "code",
   "execution_count": 95,
   "metadata": {},
   "outputs": [
    {
     "name": "stdout",
     "output_type": "stream",
     "text": [
      "負責介紹及銷售商品提供顧客之接待與需求服務 如 電話諮詢 調貨 修改 包裝及退換貨處理負責商品進貨入庫 銷售管理及庫存管理負責商品包裝 陳列及促銷品換檔工作維持店櫃週遭整潔提升業績需符合以下條件 無經驗勿投履歷具備少淑女服飾一年以上銷售經驗充滿活力並有服務熱忱 門市 店員 專櫃人員 Outlook\n",
      "--------------------\n",
      "歐德傢俱連鎖事業鼓勵對系統傢俱設計有濃厚的有志之士加入 透過完整的晉升制度及各項多元職系發展 讓同仁在歐德集團開創自己的事業本職務有業務經驗尤佳 以設計 銷售系統傢俱為主 依業主需求從系統介紹 工地丈量 繪圖 監工等  為業主服務 讓您走向專業發展的設計領域 歡迎您加入歐德集團自備交通工具 國內業務人員 客戶資料更新維護 業務或通路開發 業績目標分配與績效達成 Word\n",
      "--------------------\n",
      "熟悉成本會計熟悉三角貿易會計進貨 銷貨 費用單據審核及傳票製作 零用金異動及撥補應收 應付帳務處理 會計報表編製 有操作系統經驗者佳採購與庫存管理 進銷存管理 與廠商接洽訂單事宜須熟悉正航會計軟體能完成財務報表公司福利週休二日特休 年假依勞基法規定須熟悉正航會計軟體 記帳 出納 一般會計 會計學 一般商業 英文 Adobe Photoshop\n",
      "--------------------\n"
     ]
    }
   ],
   "source": [
    "for i in job_data[0:3]:\n",
    "    data = concate_clean_data(i)\n",
    "    if data != None:\n",
    "        print(data)\n",
    "        print(\"-\"*20)"
   ]
  },
  {
   "cell_type": "markdown",
   "metadata": {},
   "source": [
    "### b. 使用 Jieba 分詞"
   ]
  },
  {
   "cell_type": "code",
   "execution_count": 96,
   "metadata": {},
   "outputs": [],
   "source": [
    "import jieba"
   ]
  },
  {
   "cell_type": "markdown",
   "metadata": {},
   "source": [
    "#### 自定義分詞用字典檔(千萬不要跑這邊的代碼!!!!!)"
   ]
  },
  {
   "cell_type": "code",
   "execution_count": 97,
   "metadata": {},
   "outputs": [],
   "source": [
    "# 千萬不要跑這邊的代碼!!!!!\n",
    "\n",
    "# # 設定自定義的詞庫，寫入 'jieba_data/Jobcontent_dict.txt'\n",
    "\n",
    "# set_dict = []\n",
    "\n",
    "# # 將 major的字彙匯入字典\n",
    "# for i in job_data:\n",
    "#     if len(i['major_clean']) > 0:\n",
    "#         for major in i['major_clean']:\n",
    "#             if major not in set_dict:\n",
    "#                 set_dict.append(major)\n",
    "\n",
    "# # 將 language 的字彙匯入字典\n",
    "# for i in job_data:\n",
    "#     if len(i['language_clean']) > 0:\n",
    "#         for language in i['language_clean']:\n",
    "#             if language not in set_dict:\n",
    "#                 set_dict.append(language)\n",
    "\n",
    "                \n",
    "# # 將 certificate 的字彙匯入字典\n",
    "# for i in job_data:\n",
    "#     if len(i['certificate_clean']) > 0:\n",
    "#         for certificate in i['certificate_clean']:\n",
    "#             if certificate not in set_dict:\n",
    "#                 set_dict.append(certificate)\n",
    "\n",
    "\n",
    "# # 將 specialty 的字彙匯入字典\n",
    "# for i in job_data:\n",
    "#     if len(i['specialty']) > 0:\n",
    "#         for certificate in i['specialty']:\n",
    "#             certificate = certificate.strip()\n",
    "#             if certificate not in set_dict:\n",
    "#                 set_dict.append(certificate)\n",
    "\n",
    "\n",
    "# with open(file='jieba_data/Jobcontent_dict.txt',mode='a', encoding=\"UTF-8\") as writer:\n",
    "#     for w in set_dict:\n",
    "#         writer.write(w + '\\n')\n"
   ]
  },
  {
   "cell_type": "markdown",
   "metadata": {},
   "source": [
    "<span style=\"color:red\"> 自定義字典檔整合 (小組合作) </span>"
   ]
  },
  {
   "cell_type": "code",
   "execution_count": 98,
   "metadata": {},
   "outputs": [
    {
     "name": "stdout",
     "output_type": "stream",
     "text": [
      "{'客服╱門市╱業務╱貿易類': 25650, '財會╱金融專業類': 5404, '操作╱技術╱維修類': 11187, '餐飲╱旅遊 ╱美容美髮類': 20486, '生產製造╱品管╱環衛類': 8451, '經營╱人資類': 3293, '文字╱傳媒工作類': 684, '資訊軟體系統類': 9405, '資材╱物流╱運輸類': 5419, '醫療╱保健服務類': 5511, '行銷╱企劃╱專案管理類': 7421, '研發相關類': 6940, '行政╱總務╱法務類': 6479, '傳播藝術╱設計類': 3616, '軍警消╱保全類': 2399, '營建╱製圖類': 6009, '學術╱教育╱輔導類': 5060, '其他職類': 1970}\n"
     ]
    }
   ],
   "source": [
    "# 計算職缺分類與數量\n",
    "\n",
    "dict_cat = {}\n",
    "\n",
    "for i in job_data:\n",
    "    jobCat_main = i['jobCat_main']\n",
    "    if jobCat_main not in dict_cat.keys():\n",
    "        dict_cat[jobCat_main] = 1\n",
    "    else:\n",
    "        dict_cat[jobCat_main] += 1\n",
    "        \n",
    "print(dict_cat)\n",
    "\n",
    "# 01_Vivian: '客服╱門市╱業務╱貿易類'\n",
    "# 02_炫斐: '餐飲╱旅遊 ╱美容美髮類',  '學術╱教育╱輔導類'\n",
    "# 03_韋智: '財會╱金融專業類', '操作╱技術╱維修類','生產製造╱品管╱環衛類'\n",
    "# 04_謙恆: '經營╱人資類', '文字╱傳媒工作類', '資訊軟體系統類', '研發相關類'\n",
    "# 05_Willy: '資材╱物流╱運輸類', '醫療╱保健服務類', '行銷╱企劃╱專案管理類'\n",
    "# 06_董哥: '行政╱總務╱法務類', '傳播藝術╱設計類', '軍警消╱保全類', '營建╱製圖類'"
   ]
  },
  {
   "cell_type": "code",
   "execution_count": 99,
   "metadata": {},
   "outputs": [],
   "source": [
    "# 自定義字典檔整合: 請先下載所有的字典檔\n",
    "\n",
    "def txt_file_integration():\n",
    "    lst_jieba_dict = []\n",
    "\n",
    "    for i in range(1,7):\n",
    "        file_name = 'jieba_data/Jobcontent_dict_0' + str(i) + '.txt'\n",
    "        print('read file: ', file_name)\n",
    "        with open(file=file_name , mode='r', encoding=\"UTF-8\") as file:\n",
    "            words = file.read().split('\\n') \n",
    "            if len(words) > 0:\n",
    "                for i in words:\n",
    "                    if i not in lst_jieba_dict:\n",
    "                        lst_jieba_dict.append(i)\n",
    "\n",
    "    with open(file='jieba_data/Jobcontent_dict.txt' , mode='a', encoding=\"UTF-8\") as writer:\n",
    "        for w in lst_jieba_dict:\n",
    "            writer.write(w + '\\n')\n",
    "\n",
    "    print('Successful append data into \"jieba_data/Jobcontent_dict.txt\" ' )"
   ]
  },
  {
   "cell_type": "code",
   "execution_count": 100,
   "metadata": {},
   "outputs": [
    {
     "name": "stdout",
     "output_type": "stream",
     "text": [
      "read file:  jieba_data/Jobcontent_dict_01.txt\n",
      "read file:  jieba_data/Jobcontent_dict_02.txt\n",
      "read file:  jieba_data/Jobcontent_dict_03.txt\n",
      "read file:  jieba_data/Jobcontent_dict_04.txt\n",
      "read file:  jieba_data/Jobcontent_dict_05.txt\n",
      "read file:  jieba_data/Jobcontent_dict_06.txt\n",
      "Successful append data into \"jieba_data/Jobcontent_dict.txt\" \n"
     ]
    }
   ],
   "source": [
    "# 執行txt資料整合\n",
    "txt_file_integration()"
   ]
  },
  {
   "cell_type": "markdown",
   "metadata": {},
   "source": [
    "<span style=\"color:red\"> 自定義字典檔去掉重複值 </span>"
   ]
  },
  {
   "cell_type": "code",
   "execution_count": 101,
   "metadata": {},
   "outputs": [],
   "source": [
    "def remove_duplicate(textfile):\n",
    "\n",
    "    lst_word = []\n",
    "\n",
    "    with open(file=textfile , mode='r', encoding=\"UTF-8\") as file:\n",
    "        words = file.read().split('\\n') \n",
    "        for i in words:\n",
    "            if i not in lst_word:\n",
    "                lst_word.append(i)\n",
    "\n",
    "    with open(file=textfile , mode='w', encoding=\"UTF-8\") as writer:\n",
    "        for w in lst_word:\n",
    "            writer.write(w + '\\n')"
   ]
  },
  {
   "cell_type": "code",
   "execution_count": 102,
   "metadata": {},
   "outputs": [],
   "source": [
    "# 自定義字典檔去掉重複值\n",
    "\n",
    "remove_duplicate('jieba_data/Jobcontent_dict.txt')"
   ]
  },
  {
   "cell_type": "markdown",
   "metadata": {},
   "source": [
    "<span style=\"color:red\"> 使用 Jieba 分詞 </span>"
   ]
  },
  {
   "cell_type": "code",
   "execution_count": 150,
   "metadata": {},
   "outputs": [],
   "source": [
    "# 指定辭典檔\n",
    "jieba.load_userdict('jieba_data/Jobcontent_dict.txt')\n"
   ]
  },
  {
   "cell_type": "code",
   "execution_count": 157,
   "metadata": {},
   "outputs": [],
   "source": [
    "# 測試斷詞用\n",
    "\n",
    "# for i in job_data[1000:5000]:\n",
    "#     if i['jobCat_main'] == '客服╱門市╱業務╱貿易類':\n",
    "#         data = concate_clean_data(i)\n",
    "#         if data != None:\n",
    "#             print(data)\n",
    "#             print(\"-\"*10)\n",
    "#             # 使用結巴斷詞\n",
    "#             seg_result = jieba.cut(data, cut_all=False)\n",
    "#             str_result = '/'.join([i for i in list(seg_result) if len(i) > 0])\n",
    "#             print(str_result)\n",
    "#             print(\"=\"*30)"
   ]
  },
  {
   "cell_type": "code",
   "execution_count": 153,
   "metadata": {},
   "outputs": [],
   "source": [
    "# 使用結巴斷詞，產生 list of words\n",
    "\n",
    "def jieba_cut(data):\n",
    "    \n",
    "    # 使用結巴斷詞\n",
    "    seg_result = jieba.cut(data, cut_all=False)\n",
    "\n",
    "    # 篩選斷詞，去掉單一中文字\n",
    "    lst_seg = []\n",
    "    \n",
    "    for i in list(seg_result):\n",
    "        i = i.strip()\n",
    "        if len(i) < 1:  #排除空值\n",
    "            continue\n",
    "        elif i in stop_words: # 排除stopwords\n",
    "            continue\n",
    "        elif isEnglish(i) == False and len(i) == 1: #排除單一中文字\n",
    "            continue\n",
    "        elif isNumber(i) == True: #排除數字\n",
    "            continue\n",
    "        else:\n",
    "            lst_seg.append(i)\n",
    "   \n",
    "    return lst_seg"
   ]
  },
  {
   "cell_type": "markdown",
   "metadata": {},
   "source": [
    "# 建立stopwords用"
   ]
  },
  {
   "cell_type": "code",
   "execution_count": 152,
   "metadata": {},
   "outputs": [],
   "source": [
    "# 排除字元表單 stopword, 開啟 'Jobcontent_stopwords.txt'檔案\n",
    "\n",
    "with open(file='jieba_data/Jobcontent_stopwords.txt',mode='r', encoding=\"UTF-8\") as file:\n",
    "    stop_words = file.read().split('\\n')\n",
    "    stop_words = [i.strip() for i in stop_words]\n"
   ]
  },
  {
   "cell_type": "code",
   "execution_count": 158,
   "metadata": {},
   "outputs": [],
   "source": [
    "# # 建立stopwords用\n",
    "\n",
    "# dict_words_frequency = {}\n",
    "\n",
    "# for i in job_data:\n",
    "#     data = concate_clean_data(i)\n",
    "#     if data != None:\n",
    "        \n",
    "#         # 使用結巴斷詞\n",
    "#         lst_seg = jieba_cut(data)\n",
    "        \n",
    "#         # 計算斷詞出現頻率\n",
    "#         for i in lst_seg:\n",
    "#             if i not in dict_words_frequency:\n",
    "#                 dict_words_frequency[i] = 1\n",
    "#             else:\n",
    "#                 dict_words_frequency[i] += 1\n",
    "\n",
    "# dict_words_frequency = {k: v for k, v in sorted(dict_words_frequency.items(), key=lambda item: item[1], reverse=True)}\n",
    "\n",
    "# # print(dict_words_frequency) \n",
    "\n",
    "# # 已篩選大於500頻率字\n",
    "# for k, v in dict_words_frequency.items():\n",
    "#     if v < 500 and v > 100:\n",
    "#         print(k)\n"
   ]
  },
  {
   "cell_type": "code",
   "execution_count": 156,
   "metadata": {},
   "outputs": [
    {
     "name": "stdout",
     "output_type": "stream",
     "text": [
      "介紹/銷售/商品/顧客/接待/電話/諮詢/調貨/包裝/退換貨/商品/進貨/入庫/銷售/管理/庫存/管理/商品/包裝/陳列/促銷品/換檔/維持/店櫃/週遭/整潔/提升/業績/淑女/服飾/銷售/門市/店員/專櫃/Outlook\n",
      "==============================\n",
      "傢俱/連鎖/事業/系統/傢俱/設計/有志之士/多元/職系/發展/同仁/開創/事業/業務/設計/銷售/系統/傢俱/業主/系統/介紹/工地/丈量/繪圖/監工/業主/走向/專業/發展/設計/領域/交通工具/國內/業務人員/客戶/資料/維護/業務/通路/開發/業績/分配/Word\n",
      "==============================\n"
     ]
    }
   ],
   "source": [
    "# 顯示使用stopwords之後的斷詞結果\n",
    "\n",
    "for i in job_data[0:2]:\n",
    "    data = concate_clean_data(i)\n",
    "    if data != None:\n",
    "        \n",
    "        # 使用結巴斷詞\n",
    "        lst_seg = jieba_cut(data)\n",
    "        \n",
    "        # 顯示斷詞結果    \n",
    "        str_result = '/'.join(lst_seg)\n",
    "        print(str_result)\n",
    "        print(\"=\"*30)"
   ]
  },
  {
   "cell_type": "code",
   "execution_count": null,
   "metadata": {},
   "outputs": [],
   "source": []
  },
  {
   "cell_type": "code",
   "execution_count": null,
   "metadata": {},
   "outputs": [],
   "source": []
  },
  {
   "cell_type": "code",
   "execution_count": null,
   "metadata": {},
   "outputs": [],
   "source": []
  },
  {
   "cell_type": "code",
   "execution_count": null,
   "metadata": {},
   "outputs": [],
   "source": []
  },
  {
   "cell_type": "code",
   "execution_count": null,
   "metadata": {},
   "outputs": [],
   "source": []
  }
 ],
 "metadata": {
  "kernelspec": {
   "display_name": "Python 3",
   "language": "python",
   "name": "python3"
  },
  "language_info": {
   "codemirror_mode": {
    "name": "ipython",
    "version": 3
   },
   "file_extension": ".py",
   "mimetype": "text/x-python",
   "name": "python",
   "nbconvert_exporter": "python",
   "pygments_lexer": "ipython3",
   "version": "3.7.4"
  }
 },
 "nbformat": 4,
 "nbformat_minor": 4
}
