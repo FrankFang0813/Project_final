{
 "cells": [
  {
   "cell_type": "markdown",
   "metadata": {},
   "source": [
    "## 1. read JSON data"
   ]
  },
  {
   "cell_type": "code",
   "execution_count": 1,
   "metadata": {},
   "outputs": [],
   "source": [
    "import json"
   ]
  },
  {
   "cell_type": "code",
   "execution_count": 2,
   "metadata": {},
   "outputs": [],
   "source": [
    "def open_json_file(CACHE_FNAME):\n",
    "    try:\n",
    "        cache_file = open(CACHE_FNAME, 'r', encoding='utf-8-sig')\n",
    "        cache_contents = cache_file.read()\n",
    "        CACHE_DICTION = json.loads(cache_contents, encoding='utf-8-sig')\n",
    "        cache_file.close()\n",
    "        return CACHE_DICTION\n",
    "\n",
    "    except:\n",
    "        CACHE_DICTION = {}\n",
    "        return CACHE_DICTION"
   ]
  },
  {
   "cell_type": "code",
   "execution_count": 3,
   "metadata": {},
   "outputs": [
    {
     "name": "stdout",
     "output_type": "stream",
     "text": [
      "所有資料數量:  135384\n"
     ]
    }
   ],
   "source": [
    "job_data = open_json_file('json_data/test_NLP_02.json')\n",
    "print('所有資料數量: ', len(job_data))"
   ]
  },
  {
   "cell_type": "code",
   "execution_count": 4,
   "metadata": {},
   "outputs": [],
   "source": [
    "lst_jobs = []\n",
    "lst_jobs_cat = []\n",
    "\n",
    "for i in job_data:\n",
    "    if len(i['jobDescription_clean']) > 1:\n",
    "        lst_jobs.append(i['jobDescription_clean'])\n",
    "        lst_jobs_cat.append(i['jobCat_main'])\n"
   ]
  },
  {
   "cell_type": "code",
   "execution_count": 5,
   "metadata": {},
   "outputs": [
    {
     "data": {
      "text/plain": [
       "['介紹 銷售 商品 顧客 接待 服務 電話 諮詢 調貨 包裝 退換貨 商品 進貨 入庫 銷售 管理 庫存 管理 商品 包裝 陳列 促銷品 換檔 維持 店櫃 週遭 整潔 提升 業績 淑女 服飾 銷售 服務 百貨 專櫃 門市 店員 專櫃',\n",
       " '傢俱 連鎖 事業 系統 傢俱 設計 制度 多元 發展 事業 業務 設計 銷售 系統 傢俱 業主 系統 介紹 工地丈量 繪圖 監工 業主 服務 走向 專業 發展 設計 交通工具 業務 設計 業務']"
      ]
     },
     "execution_count": 5,
     "metadata": {},
     "output_type": "execute_result"
    }
   ],
   "source": [
    "lst_jobs[0:2]"
   ]
  },
  {
   "cell_type": "code",
   "execution_count": 6,
   "metadata": {},
   "outputs": [
    {
     "data": {
      "text/plain": [
       "['客服╱門市╱業務╱貿易類', '客服╱門市╱業務╱貿易類']"
      ]
     },
     "execution_count": 6,
     "metadata": {},
     "output_type": "execute_result"
    }
   ],
   "source": [
    "lst_jobs_cat[0:2]"
   ]
  },
  {
   "cell_type": "markdown",
   "metadata": {},
   "source": [
    "## 4. 建立Bag of Words (BOW)"
   ]
  },
  {
   "cell_type": "markdown",
   "metadata": {},
   "source": [
    "[Python开发 之 Sklearn的模型 和 CountVectorizer 、Transformer 保存 和 使用](https://blog.csdn.net/u014597198/article/details/103037709)"
   ]
  },
  {
   "cell_type": "code",
   "execution_count": 7,
   "metadata": {},
   "outputs": [],
   "source": [
    "from sklearn.feature_extraction.text import TfidfVectorizer \n",
    "import pickle"
   ]
  },
  {
   "cell_type": "code",
   "execution_count": 25,
   "metadata": {},
   "outputs": [],
   "source": [
    "# 参数min_df=10表示词必须要在至少10个文档中出现过，否则就不考虑。\n",
    "\n",
    "vectorizer = TfidfVectorizer(min_df=10, stop_words=\"english\", max_features=10000).fit(lst_jobs) \n",
    "transform_content = vectorizer.transform(lst_jobs) "
   ]
  },
  {
   "cell_type": "code",
   "execution_count": 26,
   "metadata": {},
   "outputs": [],
   "source": [
    "# 儲存 TfidfVectorizer 模型 \n",
    "\n",
    "pickle.dump(vectorizer, open(\"model/TfidfVectorizer.pickel\", \"wb\"))"
   ]
  },
  {
   "cell_type": "markdown",
   "metadata": {},
   "source": [
    "# 5. data preprocessing"
   ]
  },
  {
   "cell_type": "code",
   "execution_count": 27,
   "metadata": {},
   "outputs": [],
   "source": [
    "from sklearn import preprocessing"
   ]
  },
  {
   "cell_type": "code",
   "execution_count": 28,
   "metadata": {},
   "outputs": [],
   "source": [
    "X = transform_content.toarray()"
   ]
  },
  {
   "cell_type": "markdown",
   "metadata": {},
   "source": [
    "#### label encoding to job category label "
   ]
  },
  {
   "cell_type": "code",
   "execution_count": 29,
   "metadata": {},
   "outputs": [],
   "source": [
    "le = preprocessing.LabelEncoder()\n",
    "le.fit(lst_jobs_cat)\n",
    "y = le.transform(lst_jobs_cat)"
   ]
  },
  {
   "cell_type": "code",
   "execution_count": 30,
   "metadata": {},
   "outputs": [],
   "source": [
    "# 儲存 LabelEncoder 模型 \n",
    "\n",
    "# pickle.dump(le, open(\"model/le.pickel\", \"wb\"))"
   ]
  },
  {
   "cell_type": "markdown",
   "metadata": {},
   "source": [
    "## 6. 建立ML model"
   ]
  },
  {
   "cell_type": "code",
   "execution_count": 31,
   "metadata": {},
   "outputs": [],
   "source": [
    "from sklearn.model_selection import train_test_split"
   ]
  },
  {
   "cell_type": "code",
   "execution_count": 32,
   "metadata": {},
   "outputs": [],
   "source": [
    "# Splitting the dataset into the Training set and Test set\n",
    "\n",
    "X_train, X_test, y_train, y_test = train_test_split(X, y, test_size=0.2, random_state=0)"
   ]
  },
  {
   "cell_type": "markdown",
   "metadata": {},
   "source": [
    "## MultinomialNB\n",
    "\n",
    "[朴素贝叶斯分类器实践](https://lvraikkonen.github.io/2015/08/07/2015-08-07-naive-bayes-classifier/)"
   ]
  },
  {
   "cell_type": "code",
   "execution_count": 33,
   "metadata": {},
   "outputs": [],
   "source": [
    "from sklearn.metrics import accuracy_score\n",
    "from sklearn.naive_bayes import MultinomialNB\n",
    "from joblib import dump, load"
   ]
  },
  {
   "cell_type": "code",
   "execution_count": 34,
   "metadata": {},
   "outputs": [
    {
     "data": {
      "text/plain": [
       "MultinomialNB(alpha=1.0, class_prior=None, fit_prior=True)"
      ]
     },
     "execution_count": 34,
     "metadata": {},
     "output_type": "execute_result"
    }
   ],
   "source": [
    "# MultinomialNB(alpha=1.0, class_prior=None, fit_prior=True) \n",
    "# 参数 alpha，用于控制模型复杂度。alpha 越大，平滑化越强，模型复杂度就越低。\n",
    "\n",
    "model = MultinomialNB() \n",
    "model.fit(X_train, y_train) "
   ]
  },
  {
   "cell_type": "code",
   "execution_count": 35,
   "metadata": {},
   "outputs": [],
   "source": [
    "# 儲存 MultinomialNB 模型 \n",
    "\n",
    "# dump(model, 'model/MultinomialNB.joblib') "
   ]
  },
  {
   "cell_type": "code",
   "execution_count": 36,
   "metadata": {},
   "outputs": [
    {
     "data": {
      "text/plain": [
       "0.8351069916466415"
      ]
     },
     "execution_count": 36,
     "metadata": {},
     "output_type": "execute_result"
    }
   ],
   "source": [
    "y_pred = model.predict(X_test)\n",
    "accuracy_score(y_test, y_pred)"
   ]
  },
  {
   "cell_type": "code",
   "execution_count": 37,
   "metadata": {},
   "outputs": [],
   "source": [
    "# from sklearn.metrics import confusion_matrix\n",
    "from sklearn.metrics import plot_confusion_matrix"
   ]
  },
  {
   "cell_type": "code",
   "execution_count": 38,
   "metadata": {},
   "outputs": [],
   "source": [
    "# confusion_matrix(y_test, y_pred)"
   ]
  },
  {
   "cell_type": "code",
   "execution_count": 39,
   "metadata": {
    "scrolled": true
   },
   "outputs": [
    {
     "data": {
      "text/plain": [
       "<sklearn.metrics._plot.confusion_matrix.ConfusionMatrixDisplay at 0x1c466ad2208>"
      ]
     },
     "execution_count": 39,
     "metadata": {},
     "output_type": "execute_result"
    },
    {
     "data": {
      "image/png": "[encoded data removed]",
      "text/plain": [
       "<Figure size 432x288 with 2 Axes>"
      ]
     },
     "metadata": {
      "needs_background": "light"
     },
     "output_type": "display_data"
    }
   ],
   "source": [
    "plot_confusion_matrix(model, X_test, y_test)"
   ]
  },
  {
   "cell_type": "code",
   "execution_count": 40,
   "metadata": {},
   "outputs": [],
   "source": [
    "from sklearn.metrics import classification_report"
   ]
  },
  {
   "cell_type": "code",
   "execution_count": 41,
   "metadata": {},
   "outputs": [
    {
     "name": "stdout",
     "output_type": "stream",
     "text": [
      "              precision    recall  f1-score   support\n",
      "\n",
      "           0       0.84      0.77      0.81       731\n",
      "           1       0.93      0.68      0.78       380\n",
      "           2       0.89      0.90      0.90       920\n",
      "           3       0.84      0.87      0.85      5066\n",
      "           4       0.82      0.87      0.85      2265\n",
      "           5       0.96      0.50      0.66       129\n",
      "           6       0.81      0.84      0.83      1208\n",
      "           7       0.78      0.76      0.77      1566\n",
      "           8       0.70      0.72      0.71      1274\n",
      "           9       0.77      0.35      0.48       613\n",
      "          10       0.72      0.57      0.64      1260\n",
      "          11       0.72      0.74      0.73      1383\n",
      "          12       0.91      0.89      0.90      1078\n",
      "          13       0.89      0.88      0.88      1064\n",
      "          14       0.85      0.93      0.89      1737\n",
      "          15       0.95      0.91      0.93       443\n",
      "          16       0.92      0.92      0.92      1088\n",
      "          17       0.88      0.95      0.91      4012\n",
      "\n",
      "    accuracy                           0.84     26217\n",
      "   macro avg       0.84      0.78      0.80     26217\n",
      "weighted avg       0.83      0.84      0.83     26217\n",
      "\n"
     ]
    }
   ],
   "source": [
    "print(classification_report(y_test, y_pred, labels=[i for i in range(0, 18)]))"
   ]
  },
  {
   "cell_type": "markdown",
   "metadata": {},
   "source": [
    "## use cross validation"
   ]
  },
  {
   "cell_type": "code",
   "execution_count": null,
   "metadata": {},
   "outputs": [],
   "source": [
    "# from sklearn.model_selection import cross_val_score"
   ]
  },
  {
   "cell_type": "code",
   "execution_count": null,
   "metadata": {},
   "outputs": [],
   "source": [
    "# #  k 折交叉验证（k-fold cross-validation）\n",
    "\n",
    "# scores = cross_val_score(model, X, y, cv=5) \n",
    "# print(\"Cross-validation scores: {}\".format(scores))"
   ]
  },
  {
   "cell_type": "markdown",
   "metadata": {},
   "source": [
    "## create Pipeline"
   ]
  },
  {
   "cell_type": "code",
   "execution_count": null,
   "metadata": {},
   "outputs": [],
   "source": [
    "from sklearn.model_selection import GridSearchCV\n",
    "from sklearn.pipeline import make_pipeline "
   ]
  },
  {
   "cell_type": "code",
   "execution_count": null,
   "metadata": {},
   "outputs": [],
   "source": [
    "# pipe = make_pipeline(MultinomialNB()) \n",
    "# param_grid = {\"multinomialnb__alpha\": [0.001, 0.01, 0.1, 1] } \n",
    " \n",
    "# grid = GridSearchCV(pipe, param_grid, cv=5) \n",
    "# grid.fit(X_train, y_train) \n",
    "# print(\"Best cross-validation score: {:.2f}\".format(grid.best_score_)) \n",
    "# print(\"Best parameters:\\n{}\".format(grid.best_params_))\n"
   ]
  },
  {
   "cell_type": "code",
   "execution_count": null,
   "metadata": {},
   "outputs": [],
   "source": []
  }
 ],
 "metadata": {
  "kernelspec": {
   "display_name": "Python 3",
   "language": "python",
   "name": "python3"
  },
  "language_info": {
   "codemirror_mode": {
    "name": "ipython",
    "version": 3
   },
   "file_extension": ".py",
   "mimetype": "text/x-python",
   "name": "python",
   "nbconvert_exporter": "python",
   "pygments_lexer": "ipython3",
   "version": "3.7.6"
  }
 },
 "nbformat": 4,
 "nbformat_minor": 4
}
